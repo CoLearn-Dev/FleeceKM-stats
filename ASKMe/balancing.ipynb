{
 "cells": [
  {
   "cell_type": "code",
   "execution_count": 4,
   "metadata": {},
   "outputs": [],
   "source": [
    "import pandas as pd\n",
    "\n",
    "df = pd.read_csv('../data/askme-qa/askme-full.csv')"
   ]
  },
  {
   "cell_type": "code",
   "execution_count": 5,
   "metadata": {},
   "outputs": [
    {
     "data": {
      "text/plain": [
       "False"
      ]
     },
     "execution_count": 5,
     "metadata": {},
     "output_type": "execute_result"
    }
   ],
   "source": [
    "'zs' in df['setting']"
   ]
  },
  {
   "cell_type": "code",
   "execution_count": 6,
   "metadata": {},
   "outputs": [
    {
     "name": "stderr",
     "output_type": "stream",
     "text": [
      "/tmp/ipykernel_3040097/3103750516.py:21: DeprecationWarning: DataFrameGroupBy.apply operated on the grouping columns. This behavior is deprecated, and in a future version of pandas the grouping columns will be excluded from the operation. Either pass `include_groups=False` to exclude the groupings or explicitly select the grouping columns after groupby to silence this warning.\n",
      "  limited_df = data_df.groupby('paragraph_id', group_keys=False).apply(limit_questions)\n"
     ]
    }
   ],
   "source": [
    "import numpy as np\n",
    "\n",
    "data_df = df.copy()\n",
    "\n",
    "def count_nan(row):\n",
    "    return row.isna().sum()\n",
    "\n",
    "# Add a column to count NaN values in each row\n",
    "data_df['nan_count'] = data_df.apply(count_nan, axis=1)\n",
    "\n",
    "# Sort each group by the number of NaN values and then randomly to break ties\n",
    "data_df = data_df.sort_values(by=['paragraph_id', 'nan_count'], ascending=[True, True])\n",
    "data_df['random_order'] = np.random.permutation(len(data_df))\n",
    "\n",
    "# Function to limit questions per paragraph\n",
    "def limit_questions(group):\n",
    "    group = group.sort_values(by=['nan_count', 'random_order'])\n",
    "    return group.head(4)\n",
    "\n",
    "# Group by paragraph_id and apply the limit function\n",
    "limited_df = data_df.groupby('paragraph_id', group_keys=False).apply(limit_questions)\n",
    "\n",
    "# Drop the helper columns\n",
    "limited_df = limited_df.drop(columns=['nan_count', 'random_order'])\n",
    "\n",
    "# Save the limited dataset\n",
    "limited_df.to_csv('../data/askme-qa/askme-full-balanced.csv', index=False)"
   ]
  },
  {
   "cell_type": "code",
   "execution_count": null,
   "metadata": {},
   "outputs": [],
   "source": []
  }
 ],
 "metadata": {
  "kernelspec": {
   "display_name": ".venv",
   "language": "python",
   "name": "python3"
  },
  "language_info": {
   "codemirror_mode": {
    "name": "ipython",
    "version": 3
   },
   "file_extension": ".py",
   "mimetype": "text/x-python",
   "name": "python",
   "nbconvert_exporter": "python",
   "pygments_lexer": "ipython3",
   "version": "3.11.7"
  }
 },
 "nbformat": 4,
 "nbformat_minor": 2
}
